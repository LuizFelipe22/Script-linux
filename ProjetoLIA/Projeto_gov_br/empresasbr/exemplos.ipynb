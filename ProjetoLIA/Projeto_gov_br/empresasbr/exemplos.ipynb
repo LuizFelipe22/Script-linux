{
 "cells": [
  {
   "cell_type": "code",
   "execution_count": null,
   "metadata": {},
   "outputs": [],
   "source": [
    "# Exemplo para importar os arquivos zip do gov_br(arquivos disponiveis Estabelecimentos, Empresas e Socios)\n",
    "\n",
    "from servicos.importa_arquivo import importar_zip\n",
    "\n",
    "impostar = importar_zip()\n",
    "\n",
    "# Exemplo 1\n",
    "impostar.socios()\n",
    "\n",
    "# Exemplo 2\n",
    "impostar.estabelecimentos()\n",
    "\n",
    "# Exemplo 3 \n",
    "impostar.empresas()"
   ]
  },
  {
   "cell_type": "code",
   "execution_count": 3,
   "metadata": {},
   "outputs": [],
   "source": [
    "# Exemplo para exportar os dados para o banco de dados, somente socios e estabelecimentos.\n",
    "\n",
    "from servicos.exportar_dados import exportar_bd\n",
    "\n",
    "exportar = exportar_bd()\n",
    "\n",
    "# Exemplo 1\n",
    "exportar.estabelecimentos()\n",
    "\n",
    "# Exemplo 2\n",
    "exportar.socios()"
   ]
  }
 ],
 "metadata": {
  "kernelspec": {
   "display_name": "venv",
   "language": "python",
   "name": "python3"
  },
  "language_info": {
   "codemirror_mode": {
    "name": "ipython",
    "version": 3
   },
   "file_extension": ".py",
   "mimetype": "text/x-python",
   "name": "python",
   "nbconvert_exporter": "python",
   "pygments_lexer": "ipython3",
   "version": "3.8.10"
  },
  "orig_nbformat": 4
 },
 "nbformat": 4,
 "nbformat_minor": 2
}
